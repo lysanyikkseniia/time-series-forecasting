{
 "cells": [
  {
   "cell_type": "code",
   "execution_count": null,
   "metadata": {},
   "outputs": [],
   "source": [
    "import yfinance as yf\n",
    "import datetime\n",
    "import pandas as pd\n",
    "from pandas_datareader import data as web\n",
    "import plotly.graph_objects as go\n",
    "import plotly.express as px\n",
    "import matplotlib.pyplot as plt\n",
    "from statsmodels.tsa.api import ExponentialSmoothing, SimpleExpSmoothing, Holt\n",
    "import numpy as np\n",
    "import matplotlib.pyplot as plt"
   ]
  },
  {
   "cell_type": "code",
   "execution_count": null,
   "metadata": {},
   "outputs": [],
   "source": [
    "tick = input()"
   ]
  },
  {
   "cell_type": "code",
   "execution_count": null,
   "metadata": {
    "scrolled": true
   },
   "outputs": [],
   "source": [
    "y_ds = yf.download(tickers=tick,start='2013-01-02', end='2018-12-28')"
   ]
  },
  {
   "cell_type": "code",
   "execution_count": null,
   "metadata": {},
   "outputs": [],
   "source": [
    "y_test = pd.Series(yf.download(tickers=tick,start='2019-01-02', end='2019-06-01',)['Adj Close'])"
   ]
  },
  {
   "cell_type": "code",
   "execution_count": null,
   "metadata": {},
   "outputs": [],
   "source": [
    "trace1 = {\n",
    "    'x': y_ds.index,\n",
    "    'open': y_ds.Open,\n",
    "    'close': y_ds.Close,\n",
    "    'high': y_ds.High,\n",
    "    'low': y_ds.Low,\n",
    "    'type': 'candlestick',\n",
    "    'name': tick,\n",
    "    'showlegend': True\n",
    "}"
   ]
  },
  {
   "cell_type": "code",
   "execution_count": null,
   "metadata": {},
   "outputs": [],
   "source": [
    "data = [trace1]\n",
    "layout = go.Layout({\n",
    "    'title': {\n",
    "        'text': tick,\n",
    "        'font': {\n",
    "            'size': 15\n",
    "        }\n",
    "    }\n",
    "})"
   ]
  },
  {
   "cell_type": "code",
   "execution_count": null,
   "metadata": {},
   "outputs": [],
   "source": [
    "fig = go.Figure()\n",
    "fig.add_trace(trace1)\n",
    "fig.update_layout(layout)\n",
    "fig.show()"
   ]
  },
  {
   "cell_type": "markdown",
   "metadata": {},
   "source": [
    "The data clearly shows that there is no seasonality, but there may be a relative trend. "
   ]
  },
  {
   "cell_type": "code",
   "execution_count": null,
   "metadata": {},
   "outputs": [],
   "source": [
    "y_fit = pd.Series(y_ds['Adj Close'])\n",
    "figadj = px.line(y_fit)\n",
    "figadj.show()"
   ]
  },
  {
   "cell_type": "markdown",
   "metadata": {},
   "source": [
    "## Single Exponential Smoothing"
   ]
  },
  {
   "cell_type": "markdown",
   "metadata": {},
   "source": [
    "Here we will create three models in which we will consider three different 𝜶 values."
   ]
  },
  {
   "cell_type": "code",
   "execution_count": null,
   "metadata": {},
   "outputs": [],
   "source": [
    "y_fit.index = pd.DatetimeIndex(y_fit.index).to_period('M')"
   ]
  },
  {
   "cell_type": "markdown",
   "metadata": {},
   "source": [
    "𝜶 = 0.2"
   ]
  },
  {
   "cell_type": "code",
   "execution_count": null,
   "metadata": {},
   "outputs": [],
   "source": [
    "ins1 = SimpleExpSmoothing(y_fit, initialization_method=\"heuristic\").fit(smoothing_level=0.2,optimized=False)\n",
    "ins_cast1 = ins1.forecast(6).rename(r'$\\alpha=0.2$')"
   ]
  },
  {
   "cell_type": "markdown",
   "metadata": {},
   "source": [
    "𝜶 = 0.8"
   ]
  },
  {
   "cell_type": "code",
   "execution_count": null,
   "metadata": {},
   "outputs": [],
   "source": [
    "ins2 = SimpleExpSmoothing(y_fit, initialization_method=\"heuristic\").fit(smoothing_level=0.8,optimized=False)\n",
    "ins_cast2 = ins2.forecast(6).rename(r'$\\alpha=0.8$')"
   ]
  },
  {
   "cell_type": "markdown",
   "metadata": {},
   "source": [
    "𝜶 value automatically optimized by statsmodel"
   ]
  },
  {
   "cell_type": "code",
   "execution_count": null,
   "metadata": {},
   "outputs": [],
   "source": [
    "ins3 = SimpleExpSmoothing(y_fit, initialization_method=\"estimated\").fit()\n",
    "ins_cast3 = ins3.forecast(6).rename(r'$\\alpha=%s$'%ins3.model.params['smoothing_level'])"
   ]
  },
  {
   "cell_type": "code",
   "execution_count": null,
   "metadata": {},
   "outputs": [],
   "source": [
    "ins_cast1.index = ins_cast1.index.to_timestamp()\n",
    "ins_cast1 *= (y_fit[-1]/ins_cast1[0])\n",
    "ins_cast2.index = ins_cast2.index.to_timestamp()\n",
    "ins_cast2 *= (y_fit[-1]/ins_cast2[0])\n",
    "ins_cast3.index = ins_cast3.index.to_timestamp()\n",
    "ins_cast3 *= (y_fit[-1]/ins_cast3[0])"
   ]
  },
  {
   "cell_type": "code",
   "execution_count": null,
   "metadata": {},
   "outputs": [],
   "source": [
    "plt.figure(figsize=(20, 8))\n",
    "plt.grid(True)\n",
    "plt.title(\"Simple Exponential Smoothing for \"+tick)\n",
    "plt.plot(ins_cast1, color='green', label=r'$\\alpha=%s$0.2')\n",
    "plt.plot(ins_cast2, color='red', label=r'$\\alpha=%s$0.8')\n",
    "plt.plot(ins_cast3, color='blue', label = r'$\\alpha=%s$'%ins3.model.params['smoothing_level'])\n",
    "plt.legend()"
   ]
  },
  {
   "cell_type": "code",
   "execution_count": null,
   "metadata": {},
   "outputs": [],
   "source": [
    "plt.figure(figsize=(20, 8))\n",
    "plt.grid(True)\n",
    "plt.title(\"Simple Exponential Smoothing for \"+tick)\n",
    "plt.plot(y_test)\n",
    "plt.plot(ins_cast1, color='green', label=r'$\\alpha=%s$0.2')\n",
    "plt.plot(ins_cast2, color='red', label=r'$\\alpha=%s$0.8')\n",
    "plt.plot(ins_cast3, color='blue', label = r'$\\alpha=%s$'%ins3.model.params['smoothing_level'])\n",
    "plt.legend()"
   ]
  },
  {
   "cell_type": "markdown",
   "metadata": {},
   "source": [
    "## Double Exponential Smoothing"
   ]
  },
  {
   "cell_type": "code",
   "execution_count": null,
   "metadata": {},
   "outputs": [],
   "source": [
    "Holt_fit1 = Holt(y_fit, initialization_method=\"estimated\").fit(smoothing_level=0.8, smoothing_trend=0.2, optimized=False)\n",
    "Holt_fcast1 = Holt_fit1.forecast(6).rename(\"Holt's linear trend\")\n",
    "Holt_fit2 = Holt(y_fit, exponential=True, initialization_method=\"estimated\").fit(smoothing_level=0.8, smoothing_trend=0.2, optimized=False)\n",
    "Holt_fcast2 = Holt_fit2.forecast(6).rename(\"Exponential trend\")\n",
    "Holt_fit3 = Holt(y_fit, damped_trend=True, initialization_method=\"estimated\").fit(smoothing_level=0.8, smoothing_trend=0.2)\n",
    "Holt_fcast3 = Holt_fit3.forecast(6).rename(\"Additive damped trend\")"
   ]
  },
  {
   "cell_type": "code",
   "execution_count": null,
   "metadata": {},
   "outputs": [],
   "source": [
    "Holt_fcast1.index = Holt_fcast1.index.to_timestamp()\n",
    "Holt_fcast1 *= (y_fit[-1]/Holt_fcast1[0])\n",
    "Holt_fcast2.index = Holt_fcast2.index.to_timestamp()\n",
    "Holt_fcast2 *= (y_fit[-1]/Holt_fcast2[0])\n",
    "Holt_fcast3.index = Holt_fcast3.index.to_timestamp()\n",
    "Holt_fcast3 *= (y_fit[-1]/Holt_fcast3[0])"
   ]
  },
  {
   "cell_type": "code",
   "execution_count": null,
   "metadata": {},
   "outputs": [],
   "source": [
    "plt.figure(figsize=(20, 8))\n",
    "plt.grid(True)\n",
    "plt.title(\"Double Exponential Smoothing for \" + tick)\n",
    "plt.plot(Holt_fcast1, color='green', label=\"Holt's linear trend\")\n",
    "plt.plot(Holt_fcast2, color='red', label=\"Exponential trend\")\n",
    "plt.plot(Holt_fcast3, color='blue', label =\"Additive damped trend\")\n",
    "plt.legend()"
   ]
  },
  {
   "cell_type": "code",
   "execution_count": null,
   "metadata": {},
   "outputs": [],
   "source": [
    "plt.figure(figsize=(20, 8))\n",
    "plt.grid(True)\n",
    "plt.title(\"Double Exponential Smoothing for \" + tick)\n",
    "plt.plot(y_test)\n",
    "plt.plot(Holt_fcast1, color='green', label=\"Holt's linear trend\")\n",
    "plt.plot(Holt_fcast2, color='red', label=\"Exponential trend\")\n",
    "plt.plot(Holt_fcast3, color='blue', label =\"Additive damped trend\")\n",
    "plt.legend()"
   ]
  }
 ],
 "metadata": {
  "kernelspec": {
   "display_name": "Python 3",
   "language": "python",
   "name": "python3"
  },
  "language_info": {
   "codemirror_mode": {
    "name": "ipython",
    "version": 3
   },
   "file_extension": ".py",
   "mimetype": "text/x-python",
   "name": "python",
   "nbconvert_exporter": "python",
   "pygments_lexer": "ipython3",
   "version": "3.8.3"
  }
 },
 "nbformat": 4,
 "nbformat_minor": 4
}
